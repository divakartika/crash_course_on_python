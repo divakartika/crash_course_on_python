{
 "cells": [
  {
   "cell_type": "markdown",
   "metadata": {},
   "source": [
    "# Final Project - Word Cloud"
   ]
  },
  {
   "cell_type": "markdown",
   "metadata": {},
   "source": [
    "For this project, you'll create a \"word cloud\" from a text by writing a script.  This script needs to process the text, remove punctuation, ignore case and words that do not contain all alphabets, count the frequencies, and ignore uninteresting or irrelevant words.  A dictionary is the output of the `calculate_frequencies` function.  The `wordcloud` module will then generate the image from your dictionary."
   ]
  },
  {
   "cell_type": "markdown",
   "metadata": {},
   "source": [
    "For the input text of your script, you will need to provide a file that contains text only.  For the text itself, you can copy and paste the contents of a website you like.  Or you can use a site like [Project Gutenberg](https://www.gutenberg.org/) to find books that are available online.  You could see what word clouds you can get from famous books, like a Shakespeare play or a novel by Jane Austen. Save this as a .txt file somewhere on your computer.\n",
    "<br><br>\n",
    "Now you will need to upload your input file here so that your script will be able to process it.  To do the upload, you will need an uploader widget.  Run the following cell to perform all the installs and imports for your word cloud script and uploader widget.  It may take a minute for all of this to run and there will be a lot of output messages. But, be patient. Once you get the following final line of output, the code is done executing. Then you can continue on with the rest of the instructions for this notebook.\n",
    "<br><br>\n",
    "**Enabling notebook extension fileupload/extension...**\n",
    "<br>\n",
    "**- Validating: <font color =green>OK</font>**"
   ]
  },
  {
   "cell_type": "code",
   "execution_count": 1,
   "metadata": {},
   "outputs": [
    {
     "name": "stdout",
     "output_type": "stream",
     "text": [
      "Requirement already satisfied: wordcloud in c:\\users\\toshiba\\anaconda3\\lib\\site-packages (1.8.1)\n",
      "Requirement already satisfied: numpy>=1.6.1 in c:\\users\\toshiba\\anaconda3\\lib\\site-packages (from wordcloud) (1.16.5)\n",
      "Requirement already satisfied: matplotlib in c:\\users\\toshiba\\anaconda3\\lib\\site-packages (from wordcloud) (3.1.1)\n",
      "Requirement already satisfied: pillow in c:\\users\\toshiba\\anaconda3\\lib\\site-packages (from wordcloud) (6.2.0)\n",
      "Requirement already satisfied: cycler>=0.10 in c:\\users\\toshiba\\anaconda3\\lib\\site-packages (from matplotlib->wordcloud) (0.10.0)\n",
      "Requirement already satisfied: kiwisolver>=1.0.1 in c:\\users\\toshiba\\anaconda3\\lib\\site-packages (from matplotlib->wordcloud) (1.1.0)\n",
      "Requirement already satisfied: pyparsing!=2.0.4,!=2.1.2,!=2.1.6,>=2.0.1 in c:\\users\\toshiba\\anaconda3\\lib\\site-packages (from matplotlib->wordcloud) (2.4.2)\n",
      "Requirement already satisfied: python-dateutil>=2.1 in c:\\users\\toshiba\\anaconda3\\lib\\site-packages (from matplotlib->wordcloud) (2.8.0)\n",
      "Requirement already satisfied: six in c:\\users\\toshiba\\anaconda3\\lib\\site-packages (from cycler>=0.10->matplotlib->wordcloud) (1.12.0)\n",
      "Requirement already satisfied: setuptools in c:\\users\\toshiba\\anaconda3\\lib\\site-packages (from kiwisolver>=1.0.1->matplotlib->wordcloud) (41.4.0)\n",
      "Requirement already satisfied: fileupload in c:\\users\\toshiba\\anaconda3\\lib\\site-packages (0.1.5)\n",
      "Requirement already satisfied: ipywidgets>=5.1 in c:\\users\\toshiba\\anaconda3\\lib\\site-packages (from fileupload) (7.5.1)\n",
      "Requirement already satisfied: traitlets>=4.2 in c:\\users\\toshiba\\anaconda3\\lib\\site-packages (from fileupload) (4.3.3)\n",
      "Requirement already satisfied: notebook>=4.2 in c:\\users\\toshiba\\anaconda3\\lib\\site-packages (from fileupload) (6.0.1)\n",
      "Requirement already satisfied: nbformat>=4.2.0 in c:\\users\\toshiba\\anaconda3\\lib\\site-packages (from ipywidgets>=5.1->fileupload) (4.4.0)\n",
      "Requirement already satisfied: widgetsnbextension~=3.5.0 in c:\\users\\toshiba\\anaconda3\\lib\\site-packages (from ipywidgets>=5.1->fileupload) (3.5.1)\n",
      "Requirement already satisfied: ipython>=4.0.0; python_version >= \"3.3\" in c:\\users\\toshiba\\anaconda3\\lib\\site-packages (from ipywidgets>=5.1->fileupload) (7.8.0)\n",
      "Requirement already satisfied: ipykernel>=4.5.1 in c:\\users\\toshiba\\anaconda3\\lib\\site-packages (from ipywidgets>=5.1->fileupload) (5.1.2)\n",
      "Requirement already satisfied: six in c:\\users\\toshiba\\anaconda3\\lib\\site-packages (from traitlets>=4.2->fileupload) (1.12.0)\n",
      "Requirement already satisfied: ipython-genutils in c:\\users\\toshiba\\anaconda3\\lib\\site-packages (from traitlets>=4.2->fileupload) (0.2.0)\n",
      "Requirement already satisfied: decorator in c:\\users\\toshiba\\anaconda3\\lib\\site-packages (from traitlets>=4.2->fileupload) (4.4.0)\n",
      "Requirement already satisfied: nbconvert in c:\\users\\toshiba\\anaconda3\\lib\\site-packages (from notebook>=4.2->fileupload) (5.6.0)\n",
      "Requirement already satisfied: jinja2 in c:\\users\\toshiba\\anaconda3\\lib\\site-packages (from notebook>=4.2->fileupload) (2.10.3)\n",
      "Requirement already satisfied: prometheus-client in c:\\users\\toshiba\\anaconda3\\lib\\site-packages (from notebook>=4.2->fileupload) (0.7.1)\n",
      "Requirement already satisfied: pyzmq>=17 in c:\\users\\toshiba\\anaconda3\\lib\\site-packages (from notebook>=4.2->fileupload) (18.1.0)\n",
      "Requirement already satisfied: jupyter-core>=4.4.0 in c:\\users\\toshiba\\anaconda3\\lib\\site-packages (from notebook>=4.2->fileupload) (4.5.0)\n",
      "Requirement already satisfied: Send2Trash in c:\\users\\toshiba\\anaconda3\\lib\\site-packages (from notebook>=4.2->fileupload) (1.5.0)\n",
      "Requirement already satisfied: tornado>=5.0 in c:\\users\\toshiba\\anaconda3\\lib\\site-packages (from notebook>=4.2->fileupload) (6.0.3)\n",
      "Requirement already satisfied: terminado>=0.8.1 in c:\\users\\toshiba\\anaconda3\\lib\\site-packages (from notebook>=4.2->fileupload) (0.8.2)\n",
      "Requirement already satisfied: jupyter-client>=5.3.1 in c:\\users\\toshiba\\anaconda3\\lib\\site-packages (from notebook>=4.2->fileupload) (5.3.3)\n",
      "Requirement already satisfied: jsonschema!=2.5.0,>=2.4 in c:\\users\\toshiba\\anaconda3\\lib\\site-packages (from nbformat>=4.2.0->ipywidgets>=5.1->fileupload) (3.0.2)\n",
      "Requirement already satisfied: backcall in c:\\users\\toshiba\\anaconda3\\lib\\site-packages (from ipython>=4.0.0; python_version >= \"3.3\"->ipywidgets>=5.1->fileupload) (0.1.0)\n",
      "Requirement already satisfied: pygments in c:\\users\\toshiba\\anaconda3\\lib\\site-packages (from ipython>=4.0.0; python_version >= \"3.3\"->ipywidgets>=5.1->fileupload) (2.4.2)\n",
      "Requirement already satisfied: jedi>=0.10 in c:\\users\\toshiba\\anaconda3\\lib\\site-packages (from ipython>=4.0.0; python_version >= \"3.3\"->ipywidgets>=5.1->fileupload) (0.15.1)\n",
      "Requirement already satisfied: colorama; sys_platform == \"win32\" in c:\\users\\toshiba\\anaconda3\\lib\\site-packages (from ipython>=4.0.0; python_version >= \"3.3\"->ipywidgets>=5.1->fileupload) (0.4.1)\n",
      "Requirement already satisfied: prompt-toolkit<2.1.0,>=2.0.0 in c:\\users\\toshiba\\anaconda3\\lib\\site-packages (from ipython>=4.0.0; python_version >= \"3.3\"->ipywidgets>=5.1->fileupload) (2.0.10)\n",
      "Requirement already satisfied: setuptools>=18.5 in c:\\users\\toshiba\\anaconda3\\lib\\site-packages (from ipython>=4.0.0; python_version >= \"3.3\"->ipywidgets>=5.1->fileupload) (41.4.0)\n",
      "Requirement already satisfied: pickleshare in c:\\users\\toshiba\\anaconda3\\lib\\site-packages (from ipython>=4.0.0; python_version >= \"3.3\"->ipywidgets>=5.1->fileupload) (0.7.5)\n",
      "Requirement already satisfied: entrypoints>=0.2.2 in c:\\users\\toshiba\\anaconda3\\lib\\site-packages (from nbconvert->notebook>=4.2->fileupload) (0.3)\n",
      "Requirement already satisfied: mistune<2,>=0.8.1 in c:\\users\\toshiba\\anaconda3\\lib\\site-packages (from nbconvert->notebook>=4.2->fileupload) (0.8.4)\n",
      "Requirement already satisfied: bleach in c:\\users\\toshiba\\anaconda3\\lib\\site-packages (from nbconvert->notebook>=4.2->fileupload) (3.1.0)\n",
      "Requirement already satisfied: testpath in c:\\users\\toshiba\\anaconda3\\lib\\site-packages (from nbconvert->notebook>=4.2->fileupload) (0.4.2)\n",
      "Requirement already satisfied: defusedxml in c:\\users\\toshiba\\anaconda3\\lib\\site-packages (from nbconvert->notebook>=4.2->fileupload) (0.6.0)\n",
      "Requirement already satisfied: pandocfilters>=1.4.1 in c:\\users\\toshiba\\anaconda3\\lib\\site-packages (from nbconvert->notebook>=4.2->fileupload) (1.4.2)\n",
      "Requirement already satisfied: MarkupSafe>=0.23 in c:\\users\\toshiba\\anaconda3\\lib\\site-packages (from jinja2->notebook>=4.2->fileupload) (1.1.1)\n",
      "Requirement already satisfied: pywin32>=1.0; sys_platform == \"win32\" in c:\\users\\toshiba\\anaconda3\\lib\\site-packages (from jupyter-client>=5.3.1->notebook>=4.2->fileupload) (223)\n",
      "Requirement already satisfied: python-dateutil>=2.1 in c:\\users\\toshiba\\anaconda3\\lib\\site-packages (from jupyter-client>=5.3.1->notebook>=4.2->fileupload) (2.8.0)\n",
      "Requirement already satisfied: pyrsistent>=0.14.0 in c:\\users\\toshiba\\anaconda3\\lib\\site-packages (from jsonschema!=2.5.0,>=2.4->nbformat>=4.2.0->ipywidgets>=5.1->fileupload) (0.15.4)\n",
      "Requirement already satisfied: attrs>=17.4.0 in c:\\users\\toshiba\\anaconda3\\lib\\site-packages (from jsonschema!=2.5.0,>=2.4->nbformat>=4.2.0->ipywidgets>=5.1->fileupload) (19.2.0)\n",
      "Requirement already satisfied: parso>=0.5.0 in c:\\users\\toshiba\\anaconda3\\lib\\site-packages (from jedi>=0.10->ipython>=4.0.0; python_version >= \"3.3\"->ipywidgets>=5.1->fileupload) (0.5.1)\n",
      "Requirement already satisfied: wcwidth in c:\\users\\toshiba\\anaconda3\\lib\\site-packages (from prompt-toolkit<2.1.0,>=2.0.0->ipython>=4.0.0; python_version >= \"3.3\"->ipywidgets>=5.1->fileupload) (0.1.7)\n",
      "Requirement already satisfied: webencodings in c:\\users\\toshiba\\anaconda3\\lib\\site-packages (from bleach->nbconvert->notebook>=4.2->fileupload) (0.5.1)\n",
      "Requirement already satisfied: ipywidgets in c:\\users\\toshiba\\anaconda3\\lib\\site-packages (7.5.1)\n",
      "Requirement already satisfied: widgetsnbextension~=3.5.0 in c:\\users\\toshiba\\anaconda3\\lib\\site-packages (from ipywidgets) (3.5.1)\n",
      "Requirement already satisfied: ipykernel>=4.5.1 in c:\\users\\toshiba\\anaconda3\\lib\\site-packages (from ipywidgets) (5.1.2)\n",
      "Requirement already satisfied: traitlets>=4.3.1 in c:\\users\\toshiba\\anaconda3\\lib\\site-packages (from ipywidgets) (4.3.3)\n",
      "Requirement already satisfied: ipython>=4.0.0; python_version >= \"3.3\" in c:\\users\\toshiba\\anaconda3\\lib\\site-packages (from ipywidgets) (7.8.0)\n",
      "Requirement already satisfied: nbformat>=4.2.0 in c:\\users\\toshiba\\anaconda3\\lib\\site-packages (from ipywidgets) (4.4.0)\n",
      "Requirement already satisfied: notebook>=4.4.1 in c:\\users\\toshiba\\anaconda3\\lib\\site-packages (from widgetsnbextension~=3.5.0->ipywidgets) (6.0.1)\n",
      "Requirement already satisfied: jupyter-client in c:\\users\\toshiba\\anaconda3\\lib\\site-packages (from ipykernel>=4.5.1->ipywidgets) (5.3.3)\n",
      "Requirement already satisfied: tornado>=4.2 in c:\\users\\toshiba\\anaconda3\\lib\\site-packages (from ipykernel>=4.5.1->ipywidgets) (6.0.3)\n",
      "Requirement already satisfied: decorator in c:\\users\\toshiba\\anaconda3\\lib\\site-packages (from traitlets>=4.3.1->ipywidgets) (4.4.0)\n",
      "Requirement already satisfied: ipython-genutils in c:\\users\\toshiba\\anaconda3\\lib\\site-packages (from traitlets>=4.3.1->ipywidgets) (0.2.0)\n",
      "Requirement already satisfied: six in c:\\users\\toshiba\\anaconda3\\lib\\site-packages (from traitlets>=4.3.1->ipywidgets) (1.12.0)\n",
      "Requirement already satisfied: pickleshare in c:\\users\\toshiba\\anaconda3\\lib\\site-packages (from ipython>=4.0.0; python_version >= \"3.3\"->ipywidgets) (0.7.5)\n",
      "Requirement already satisfied: setuptools>=18.5 in c:\\users\\toshiba\\anaconda3\\lib\\site-packages (from ipython>=4.0.0; python_version >= \"3.3\"->ipywidgets) (41.4.0)\n",
      "Requirement already satisfied: colorama; sys_platform == \"win32\" in c:\\users\\toshiba\\anaconda3\\lib\\site-packages (from ipython>=4.0.0; python_version >= \"3.3\"->ipywidgets) (0.4.1)\n",
      "Requirement already satisfied: backcall in c:\\users\\toshiba\\anaconda3\\lib\\site-packages (from ipython>=4.0.0; python_version >= \"3.3\"->ipywidgets) (0.1.0)\n",
      "Requirement already satisfied: jedi>=0.10 in c:\\users\\toshiba\\anaconda3\\lib\\site-packages (from ipython>=4.0.0; python_version >= \"3.3\"->ipywidgets) (0.15.1)\n",
      "Requirement already satisfied: prompt-toolkit<2.1.0,>=2.0.0 in c:\\users\\toshiba\\anaconda3\\lib\\site-packages (from ipython>=4.0.0; python_version >= \"3.3\"->ipywidgets) (2.0.10)\n",
      "Requirement already satisfied: pygments in c:\\users\\toshiba\\anaconda3\\lib\\site-packages (from ipython>=4.0.0; python_version >= \"3.3\"->ipywidgets) (2.4.2)\n",
      "Requirement already satisfied: jupyter-core in c:\\users\\toshiba\\anaconda3\\lib\\site-packages (from nbformat>=4.2.0->ipywidgets) (4.5.0)\n",
      "Requirement already satisfied: jsonschema!=2.5.0,>=2.4 in c:\\users\\toshiba\\anaconda3\\lib\\site-packages (from nbformat>=4.2.0->ipywidgets) (3.0.2)\n",
      "Requirement already satisfied: jinja2 in c:\\users\\toshiba\\anaconda3\\lib\\site-packages (from notebook>=4.4.1->widgetsnbextension~=3.5.0->ipywidgets) (2.10.3)\n",
      "Requirement already satisfied: terminado>=0.8.1 in c:\\users\\toshiba\\anaconda3\\lib\\site-packages (from notebook>=4.4.1->widgetsnbextension~=3.5.0->ipywidgets) (0.8.2)\n",
      "Requirement already satisfied: nbconvert in c:\\users\\toshiba\\anaconda3\\lib\\site-packages (from notebook>=4.4.1->widgetsnbextension~=3.5.0->ipywidgets) (5.6.0)\n",
      "Requirement already satisfied: prometheus-client in c:\\users\\toshiba\\anaconda3\\lib\\site-packages (from notebook>=4.4.1->widgetsnbextension~=3.5.0->ipywidgets) (0.7.1)\n",
      "Requirement already satisfied: Send2Trash in c:\\users\\toshiba\\anaconda3\\lib\\site-packages (from notebook>=4.4.1->widgetsnbextension~=3.5.0->ipywidgets) (1.5.0)\n",
      "Requirement already satisfied: pyzmq>=17 in c:\\users\\toshiba\\anaconda3\\lib\\site-packages (from notebook>=4.4.1->widgetsnbextension~=3.5.0->ipywidgets) (18.1.0)\n",
      "Requirement already satisfied: python-dateutil>=2.1 in c:\\users\\toshiba\\anaconda3\\lib\\site-packages (from jupyter-client->ipykernel>=4.5.1->ipywidgets) (2.8.0)\n",
      "Requirement already satisfied: pywin32>=1.0; sys_platform == \"win32\" in c:\\users\\toshiba\\anaconda3\\lib\\site-packages (from jupyter-client->ipykernel>=4.5.1->ipywidgets) (223)\n",
      "Requirement already satisfied: parso>=0.5.0 in c:\\users\\toshiba\\anaconda3\\lib\\site-packages (from jedi>=0.10->ipython>=4.0.0; python_version >= \"3.3\"->ipywidgets) (0.5.1)\n",
      "Requirement already satisfied: wcwidth in c:\\users\\toshiba\\anaconda3\\lib\\site-packages (from prompt-toolkit<2.1.0,>=2.0.0->ipython>=4.0.0; python_version >= \"3.3\"->ipywidgets) (0.1.7)\n",
      "Requirement already satisfied: pyrsistent>=0.14.0 in c:\\users\\toshiba\\anaconda3\\lib\\site-packages (from jsonschema!=2.5.0,>=2.4->nbformat>=4.2.0->ipywidgets) (0.15.4)\n",
      "Requirement already satisfied: attrs>=17.4.0 in c:\\users\\toshiba\\anaconda3\\lib\\site-packages (from jsonschema!=2.5.0,>=2.4->nbformat>=4.2.0->ipywidgets) (19.2.0)\n",
      "Requirement already satisfied: MarkupSafe>=0.23 in c:\\users\\toshiba\\anaconda3\\lib\\site-packages (from jinja2->notebook>=4.4.1->widgetsnbextension~=3.5.0->ipywidgets) (1.1.1)\n",
      "Requirement already satisfied: entrypoints>=0.2.2 in c:\\users\\toshiba\\anaconda3\\lib\\site-packages (from nbconvert->notebook>=4.4.1->widgetsnbextension~=3.5.0->ipywidgets) (0.3)\n",
      "Requirement already satisfied: defusedxml in c:\\users\\toshiba\\anaconda3\\lib\\site-packages (from nbconvert->notebook>=4.4.1->widgetsnbextension~=3.5.0->ipywidgets) (0.6.0)\n",
      "Requirement already satisfied: testpath in c:\\users\\toshiba\\anaconda3\\lib\\site-packages (from nbconvert->notebook>=4.4.1->widgetsnbextension~=3.5.0->ipywidgets) (0.4.2)\n",
      "Requirement already satisfied: mistune<2,>=0.8.1 in c:\\users\\toshiba\\anaconda3\\lib\\site-packages (from nbconvert->notebook>=4.4.1->widgetsnbextension~=3.5.0->ipywidgets) (0.8.4)\n",
      "Requirement already satisfied: bleach in c:\\users\\toshiba\\anaconda3\\lib\\site-packages (from nbconvert->notebook>=4.4.1->widgetsnbextension~=3.5.0->ipywidgets) (3.1.0)\n",
      "Requirement already satisfied: pandocfilters>=1.4.1 in c:\\users\\toshiba\\anaconda3\\lib\\site-packages (from nbconvert->notebook>=4.4.1->widgetsnbextension~=3.5.0->ipywidgets) (1.4.2)\n",
      "Requirement already satisfied: webencodings in c:\\users\\toshiba\\anaconda3\\lib\\site-packages (from bleach->nbconvert->notebook>=4.4.1->widgetsnbextension~=3.5.0->ipywidgets) (0.5.1)\n"
     ]
    },
    {
     "name": "stderr",
     "output_type": "stream",
     "text": [
      "Installing C:\\Users\\TOSHIBA\\Anaconda3\\lib\\site-packages\\fileupload\\static -> fileupload\n",
      "Up to date: C:\\Users\\TOSHIBA\\AppData\\Roaming\\jupyter\\nbextensions\\fileupload\\extension.js\n",
      "Up to date: C:\\Users\\TOSHIBA\\AppData\\Roaming\\jupyter\\nbextensions\\fileupload\\widget.js\n",
      "Up to date: C:\\Users\\TOSHIBA\\AppData\\Roaming\\jupyter\\nbextensions\\fileupload\\fileupload\\widget.js\n",
      "- Validating: ok\n",
      "\n",
      "    To initialize this nbextension in the browser every time the notebook (or other app) loads:\n",
      "    \n",
      "          jupyter nbextension enable fileupload --user --py\n",
      "    \n",
      "Enabling notebook extension fileupload/extension...\n",
      "      - Validating: ok\n"
     ]
    }
   ],
   "source": [
    "# Here are all the installs and imports you will need for your word cloud script and uploader widget\n",
    "\n",
    "!pip install wordcloud\n",
    "!pip install fileupload\n",
    "!pip install ipywidgets\n",
    "!jupyter nbextension install --py --user fileupload\n",
    "!jupyter nbextension enable --py fileupload\n",
    "\n",
    "import wordcloud\n",
    "import numpy as np\n",
    "from matplotlib import pyplot as plt\n",
    "from IPython.display import display\n",
    "import fileupload\n",
    "import io\n",
    "import sys"
   ]
  },
  {
   "cell_type": "markdown",
   "metadata": {},
   "source": [
    "Whew! That was a lot. All of the installs and imports for your word cloud script and uploader widget have been completed. \n",
    "<br><br>\n",
    "**IMPORTANT!** If this was your first time running the above cell containing the installs and imports, you will need save this notebook now. Then under the File menu above,  select Close and Halt. When the notebook has completely shut down, reopen it. This is the only way the necessary changes will take affect.\n",
    "<br><br>\n",
    "To upload your text file, run the following cell that contains all the code for a custom uploader widget. Once you run this cell, a \"Browse\" button should appear below it. Click this button and navigate the window to locate your saved text file."
   ]
  },
  {
   "cell_type": "code",
   "execution_count": 2,
   "metadata": {},
   "outputs": [
    {
     "data": {
      "application/vnd.jupyter.widget-view+json": {
       "model_id": "dce86fb066ac41bc945f50d55e518c29",
       "version_major": 2,
       "version_minor": 0
      },
      "text/plain": [
       "FileUploadWidget(label='Browse', _dom_classes=('widget_item', 'btn-group'))"
      ]
     },
     "metadata": {},
     "output_type": "display_data"
    },
    {
     "name": "stdout",
     "output_type": "stream",
     "text": [
      "Uploaded `README Not Normalized.txt` (0.23 kB)\n"
     ]
    }
   ],
   "source": [
    "# This is the uploader widget\n",
    "\n",
    "def _upload():\n",
    "\n",
    "    _upload_widget = fileupload.FileUploadWidget()\n",
    "\n",
    "    def _cb(change):\n",
    "        global file_contents\n",
    "        decoded = io.StringIO(change['owner'].data.decode('utf-8'))\n",
    "        filename = change['owner'].filename\n",
    "        print('Uploaded `{}` ({:.2f} kB)'.format(\n",
    "            filename, len(decoded.read()) / 2 **10))\n",
    "        file_contents = decoded.getvalue()\n",
    "\n",
    "    _upload_widget.observe(_cb, names='data')\n",
    "    display(_upload_widget)\n",
    "\n",
    "_upload()"
   ]
  },
  {
   "cell_type": "code",
   "execution_count": 104,
   "metadata": {},
   "outputs": [],
   "source": [
    "def calculate_frequencies(file_contents):\n",
    "    # Here is a list of punctuations and uninteresting words you can use to process your text\n",
    "    punctuations = '''!()-[]{};:'\"\\,<>./?@#$%^&*_~'''\n",
    "    uninteresting_words = [\"the\", \"a\", \"to\", \"if\", \"is\", \"it\", \"of\", \"and\", \"or\", \"an\", \"as\", \"i\", \"me\", \"my\", \\\n",
    "    \"we\", \"our\", \"ours\", \"you\", \"your\", \"yours\", \"he\", \"she\", \"him\", \"his\", \"her\", \"hers\", \"its\", \"they\", \"them\", \\\n",
    "    \"their\", \"what\", \"which\", \"who\", \"whom\", \"this\", \"that\", \"am\", \"are\", \"was\", \"were\", \"be\", \"been\", \"being\", \\\n",
    "    \"have\", \"has\", \"had\", \"do\", \"does\", \"did\", \"but\", \"at\", \"by\", \"with\", \"from\", \"here\", \"when\", \"where\", \"how\", \\\n",
    "    \"all\", \"any\", \"both\", \"each\", \"few\", \"more\", \"some\", \"such\", \"no\", \"nor\", \"too\", \"very\", \"can\", \"will\", \"just\"]\n",
    "\n",
    "    # LEARNER CODE START HERE\n",
    "    #Initialize the dictionary\n",
    "    words_frequency = {}\n",
    "    \n",
    "    #Make sure the text is a string\n",
    "    file_string = str(file_contents)\n",
    "    \n",
    "    #Begin preprocessing\n",
    "    for char in file_string:        \n",
    "        if char in punctuations or char.isnumeric():\n",
    "                file_string = file_string.replace(char,\" \")\n",
    "    \n",
    "    #Make all words in the text have lower case\n",
    "    #Turn the text into a list of words\n",
    "    file_list = file_string.lower().split()\n",
    "    \n",
    "    #Insert every word & its frequency into the dictionary\n",
    "    for word in file_list:\n",
    "        if len(word) > 1 and word not in uninteresting_words:\n",
    "            if word not in words_frequency.keys():\n",
    "                words_frequency[word] = 0\n",
    "            words_frequency[word] += 1    \n",
    "          \n",
    "    #wordcloud\n",
    "    cloud = wordcloud.WordCloud()\n",
    "    cloud.generate_from_frequencies(words_frequency)\n",
    "    cloud.to_file(\"myfile.jpg\")\n",
    "    return cloud.to_array()"
   ]
  },
  {
   "cell_type": "markdown",
   "metadata": {},
   "source": [
    "If you have done everything correctly, your word cloud image should appear after running the cell below.  Fingers crossed!"
   ]
  },
  {
   "cell_type": "code",
   "execution_count": 105,
   "metadata": {},
   "outputs": [
    {
     "data": {
      "image/png": "[encoded data removed]",
      "text/plain": [
       "<Figure size 432x288 with 1 Axes>"
      ]
     },
     "metadata": {
      "needs_background": "light"
     },
     "output_type": "display_data"
    }
   ],
   "source": [
    "# Display your wordcloud image\n",
    "\n",
    "myimage = calculate_frequencies(file_contents)\n",
    "plt.imshow(myimage, interpolation = 'nearest')\n",
    "plt.axis('off')\n",
    "plt.show()"
   ]
  }
 ],
 "metadata": {
  "kernelspec": {
   "display_name": "Python 3",
   "language": "python",
   "name": "python3"
  },
  "language_info": {
   "codemirror_mode": {
    "name": "ipython",
    "version": 3
   },
   "file_extension": ".py",
   "mimetype": "text/x-python",
   "name": "python",
   "nbconvert_exporter": "python",
   "pygments_lexer": "ipython3",
   "version": "3.7.4"
  }
 },
 "nbformat": 4,
 "nbformat_minor": 2
}
